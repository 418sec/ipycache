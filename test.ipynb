{
 "metadata": {
  "name": ""
 },
 "nbformat": 3,
 "nbformat_minor": 0,
 "worksheets": [
  {
   "cells": [
    {
     "cell_type": "markdown",
     "metadata": {},
     "source": [
      "# Caching variables in a file"
     ]
    },
    {
     "cell_type": "markdown",
     "metadata": {},
     "source": [
      "The [ipycache](https://github.com/rossant/ipycache) package defines a `%%cache` cell magic allowing you to cache results of long-lasting computations in a pickle file."
     ]
    },
    {
     "cell_type": "code",
     "collapsed": false,
     "input": [
      "import numpy as np"
     ],
     "language": "python",
     "metadata": {},
     "outputs": [],
     "prompt_number": 1
    },
    {
     "cell_type": "code",
     "collapsed": false,
     "input": [
      "%load_ext ipycache"
     ],
     "language": "python",
     "metadata": {},
     "outputs": [],
     "prompt_number": 2
    },
    {
     "cell_type": "code",
     "collapsed": false,
     "input": [
      "def long_function(a, b):\n",
      "    import time\n",
      "    time.sleep(1)\n",
      "    return a + b"
     ],
     "language": "python",
     "metadata": {},
     "outputs": [],
     "prompt_number": 3
    },
    {
     "cell_type": "markdown",
     "metadata": {},
     "source": [
      "The following cell will only be executed if the pickle file does not exist (also, there is a `--force` option to always execute the cell and overwrite the results in the pickle file)."
     ]
    },
    {
     "cell_type": "code",
     "collapsed": false,
     "input": [
      "%%cache myvars.pkl a b c\n",
      "a = 3\n",
      "b = np.random.randn(3)\n",
      "c = long_function(a, b)"
     ],
     "language": "python",
     "metadata": {},
     "outputs": [
      {
       "output_type": "stream",
       "stream": "stdout",
       "text": [
        "Saved variables a, b, c to file 'myvars.pkl'.\n"
       ]
      }
     ],
     "prompt_number": 4
    },
    {
     "cell_type": "code",
     "collapsed": false,
     "input": [
      "print(a, b, c)"
     ],
     "language": "python",
     "metadata": {},
     "outputs": [
      {
       "output_type": "stream",
       "stream": "stdout",
       "text": [
        "(3, array([-0.02057845, -2.33853692,  1.12607222]), array([ 2.97942155,  0.66146308,  4.12607222]))\n"
       ]
      }
     ],
     "prompt_number": 5
    },
    {
     "cell_type": "code",
     "collapsed": false,
     "input": [
      "del a, b, c"
     ],
     "language": "python",
     "metadata": {},
     "outputs": [],
     "prompt_number": 6
    },
    {
     "cell_type": "markdown",
     "metadata": {},
     "source": [
      "Now, we execute the same cell again (in practice, the cell only appears once in the notebook, so this simulates multiple executions of the same cell)."
     ]
    },
    {
     "cell_type": "code",
     "collapsed": false,
     "input": [
      "%%cache myvars.pkl a b c\n",
      "a = 3\n",
      "b = np.random.randn(3)\n",
      "c = long_function(a, b)"
     ],
     "language": "python",
     "metadata": {},
     "outputs": [
      {
       "output_type": "stream",
       "stream": "stdout",
       "text": [
        "Skipping the cell's code and loading variables a, b, c from file 'myvars.pkl'.\n"
       ]
      }
     ],
     "prompt_number": 7
    },
    {
     "cell_type": "markdown",
     "metadata": {},
     "source": [
      "The cell has been skipped, but the variables have been recovered from the pickle file."
     ]
    },
    {
     "cell_type": "code",
     "collapsed": false,
     "input": [
      "print(a, b, c)"
     ],
     "language": "python",
     "metadata": {},
     "outputs": [
      {
       "output_type": "stream",
       "stream": "stdout",
       "text": [
        "(3, array([-0.02057845, -2.33853692,  1.12607222]), array([ 2.97942155,  0.66146308,  4.12607222]))\n"
       ]
      }
     ],
     "prompt_number": 8
    },
    {
     "cell_type": "markdown",
     "metadata": {},
     "source": [
      "Now, let's delete the file."
     ]
    },
    {
     "cell_type": "code",
     "collapsed": false,
     "input": [
      "import os\n",
      "os.remove('myvars.pkl')"
     ],
     "language": "python",
     "metadata": {},
     "outputs": [],
     "prompt_number": 9
    },
    {
     "cell_type": "markdown",
     "metadata": {},
     "source": [
      "Let's execute the cell once more."
     ]
    },
    {
     "cell_type": "code",
     "collapsed": false,
     "input": [
      "%%cache myvars.pkl a b c\n",
      "a = 3\n",
      "b = np.random.randn(3)\n",
      "c = long_function(a, b)"
     ],
     "language": "python",
     "metadata": {},
     "outputs": [
      {
       "output_type": "stream",
       "stream": "stdout",
       "text": [
        "Saved variables a, b, c to file 'myvars.pkl'.\n"
       ]
      }
     ],
     "prompt_number": 10
    },
    {
     "cell_type": "code",
     "collapsed": false,
     "input": [
      "print(a, b, c)"
     ],
     "language": "python",
     "metadata": {},
     "outputs": [
      {
       "output_type": "stream",
       "stream": "stdout",
       "text": [
        "(3, array([-0.00947968,  2.18374302, -0.46357648]), array([ 2.99052032,  5.18374302,  2.53642352]))\n"
       ]
      }
     ],
     "prompt_number": 11
    },
    {
     "cell_type": "code",
     "collapsed": false,
     "input": [
      "os.remove('myvars.pkl')"
     ],
     "language": "python",
     "metadata": {},
     "outputs": [],
     "prompt_number": 12
    }
   ],
   "metadata": {}
  }
 ]
}